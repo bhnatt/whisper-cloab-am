{
 "cells": [
  {
   "cell_type": "code",
   "execution_count": null,
   "id": "31352d1f-97cc-4a22-a378-efc2a5817b17",
   "metadata": {},
   "outputs": [],
   "source": [
    "#@title Initialize and prepare Whisper environment {display-mode: \"form\"}\n",
    "\n",
    "# %pip install -q git+https://github.com/openai/whisper.git\n",
    "%pip install -U openai-whisper\n",
    "%pip install -q ffmpeg-python\n",
    "%pip install -q python-docx\n",
    "%pip install -q srt\n",
    "!git clone -b turbo https://github.com/bhnatt/whisper-am.git\n",
    "\n",
    "### https://ipython.org/ipython-doc/3/config/extensions/autoreload.html\n",
    "%load_ext autoreload\n",
    "%autoreload 2"
   ]
  },
  {
   "cell_type": "code",
   "execution_count": null,
   "id": "1aaa0dc7-0f88-4ff7-8aac-5216408461fd",
   "metadata": {},
   "outputs": [
    {
     "name": "stderr",
     "output_type": "stream",
     "text": [
      "[nltk_data] Downloading package punkt to /home/choice/nltk_data...\n",
      "[nltk_data]   Package punkt is already up-to-date!\n"
     ]
    },
    {
     "name": "stdout",
     "output_type": "stream",
     "text": [
      "Not a Google Colab environment !!!\n"
     ]
    }
   ],
   "source": [
    "#@title input parameters {display-mode: \"form\"}\n",
    "import os\n",
    "import sys\n",
    "if os.path.isdir ('/content/whisper-am') :\n",
    "    sys.path.append ('/content/whisper-am')\n",
    "\n",
    "from whisper_am import WhisperAM, mountDrive\n",
    "\n",
    "data_dir = 'data' #@param {type:\"string\"}\n",
    "if data_dir [-1] != '/' : data_dir = data_dir + '/'\n",
    "\n",
    "ds = mountDrive ()\n",
    "google_drive = '/content/drive/MyDrive/' if ds else './'\n",
    "data_path   = google_drive + data_dir\n",
    "model_name = \"turbo\" #@param [\"turbo\", \"medium.en\", \"large\", \"large-v2\", \"large-v3-turbo\", \"small.en', \"tiny.en\", \"medium\", \"small\", \"tiny\"]\n",
    "\n",
    "doc_download = False #@param {type:\"boolean\"}\n",
    "initial_prompt = '' #@param {type:\"string\"}\n",
    "beam_size = 5 #@param {type:\"integer\"}\n",
    "\n",
    "am = WhisperAM (model_name, data_path, initial_prompt=initial_prompt, doc_download=doc_download, beam_size=beam_size)\n",
    "if am.checkCuda () != 'cuda' :\n",
    "    print ('need to change colab runtime to GPU...')\n",
    "    if ds : exit ()"
   ]
  },
  {
   "cell_type": "code",
   "execution_count": 2,
   "id": "e9169bb6",
   "metadata": {},
   "outputs": [
    {
     "data": {
      "text/plain": [
       "'We are ready for a dictation.'"
      ]
     },
     "execution_count": 2,
     "metadata": {},
     "output_type": "execute_result"
    }
   ],
   "source": [
    "am.initial_prompt"
   ]
  },
  {
   "cell_type": "code",
   "execution_count": 3,
   "id": "7f49f307-6970-4e2e-a104-83087a691b2a",
   "metadata": {},
   "outputs": [
    {
     "name": "stdout",
     "output_type": "stream",
     "text": [
      "Start : 11:23:23 PM 04/19/2023 KST\n",
      "./data/23NY12Padmasambhava08012023.mp3\n"
     ]
    },
    {
     "name": "stderr",
     "output_type": "stream",
     "text": [
      "100%|██████████| 423311/423311 [04:15<00:00, 1658.32frames/s]"
     ]
    },
    {
     "name": "stdout",
     "output_type": "stream",
     "text": [
      " I am the ascended master Patmasambava. I have giv ... d in the movement of peace, the peaceful movement.\n",
      "\n",
      "End  : 11:28:13 PM 04/19/2023 KST\n"
     ]
    },
    {
     "name": "stderr",
     "output_type": "stream",
     "text": [
      "\n"
     ]
    }
   ],
   "source": [
    "#%%time\n",
    "#@title run Whisper {display-mode: \"form\"}\n",
    "import time\n",
    "\n",
    "print ('Start :', time.strftime('%X %x %Z'))\n",
    "am.run ()\n",
    "print ('End  :', time.strftime('%X %x %Z'))"
   ]
  }
 ],
 "metadata": {
  "kernelspec": {
   "display_name": "tts",
   "language": "python",
   "name": "python3"
  },
  "language_info": {
   "codemirror_mode": {
    "name": "ipython",
    "version": 3
   },
   "file_extension": ".py",
   "mimetype": "text/x-python",
   "name": "python",
   "nbconvert_exporter": "python",
   "pygments_lexer": "ipython3",
   "version": "3.8.12"
  }
 },
 "nbformat": 4,
 "nbformat_minor": 5
}
